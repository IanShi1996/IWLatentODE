{
 "cells": [
  {
   "cell_type": "markdown",
   "metadata": {},
   "source": [
    "# Sine Data Generation\n",
    "\n",
    "Generates segmented sine waves for training Segmented NODE model."
   ]
  },
  {
   "cell_type": "code",
   "execution_count": 2,
   "metadata": {},
   "outputs": [],
   "source": [
    "import torch\n",
    "\n",
    "import matplotlib.pyplot as plt\n",
    "from datetime import datetime"
   ]
  },
  {
   "cell_type": "code",
   "execution_count": 3,
   "metadata": {},
   "outputs": [],
   "source": [
    "from simulate_sine import SineSetGenerator\n",
    "\n",
    "data_params = {\n",
    "    'n_traj': (20000, 2500, 2500),\n",
    "    'n_samp': (200, 200, 200),\n",
    "    'amp': (-10, 10),\n",
    "    'freq': (1, 4),\n",
    "    'phase': True,\n",
    "    'start': 0,\n",
    "    'end': 7,\n",
    "    'noise': 0.025,\n",
    "    'tp_generation': ('U', 'U', 'U'),\n",
    "}\n",
    "\n",
    "generator = SineSetGenerator(data_params)"
   ]
  },
  {
   "cell_type": "code",
   "execution_count": 4,
   "metadata": {},
   "outputs": [],
   "source": [
    "data = {\n",
    "    'generator': generator,\n",
    "    'data_params': data_params,\n",
    "}\n",
    "\n",
    "torch.save(data, \"../data/sine_data_{}\".format(datetime.now()))"
   ]
  }
 ],
 "metadata": {
  "kernelspec": {
   "display_name": "Python 3",
   "language": "python",
   "name": "python3"
  },
  "language_info": {
   "codemirror_mode": {
    "name": "ipython",
    "version": 3
   },
   "file_extension": ".py",
   "mimetype": "text/x-python",
   "name": "python",
   "nbconvert_exporter": "python",
   "pygments_lexer": "ipython3",
   "version": "3.8.5"
  }
 },
 "nbformat": 4,
 "nbformat_minor": 4
}
