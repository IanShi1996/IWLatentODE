{
 "cells": [
  {
   "cell_type": "markdown",
   "metadata": {},
   "source": [
    "## Setup"
   ]
  },
  {
   "cell_type": "code",
   "execution_count": 15,
   "metadata": {},
   "outputs": [],
   "source": [
    "import sys, os\n",
    "sys.path.append(os.path.abspath('../src'))\n",
    "sys.path.append(os.path.abspath('..'))\n",
    "\n",
    "import torch\n",
    "import torch.nn as nn\n",
    "import torch.optim as optim\n",
    "from torch.utils.data import Dataset, DataLoader\n",
    "\n",
    "torch.set_grad_enabled(False)\n",
    "device = torch.device('cuda:0')\n",
    "\n",
    "import numpy as np\n",
    "import matplotlib.pyplot as plt\n",
    "from datetime import datetime\n",
    "from tqdm import tqdm\n",
    "\n",
    "# Custom lib\n",
    "from model import LatentNeuralODEBuilder\n",
    "from utils import gpu, asnp"
   ]
  },
  {
   "cell_type": "code",
   "execution_count": 16,
   "metadata": {},
   "outputs": [],
   "source": [
    "class SineSet(Dataset):\n",
    "    def __init__(self, data, time):\n",
    "        self.data = data\n",
    "        self.time = time\n",
    "    def __len__(self):\n",
    "        return len(self.data)\n",
    "    def __getitem__(self, idx):\n",
    "        return self.data[idx], self.time"
   ]
  },
  {
   "cell_type": "code",
   "execution_count": 50,
   "metadata": {},
   "outputs": [],
   "source": [
    "model_path = \"../models/\"\n",
    "\n",
    "# Need to be replaced.\n",
    "# run_1 = \"sine_base_lode_1_1_2021-04-10 00:45:41.187330\"\n",
    "# run_2 = \"sine_base_lode_1_1_2021-04-10 00:50:45.503356\"\n",
    "# run_3 = \"sine_base_lode_1_1_2021-04-10 00:59:32.700574\"\n",
    "\n",
    "# run_1 = \"sine_iwae_lode_1_5_2021-04-10 00:07:26.055046\"\n",
    "# run_2 = \"sine_iwae_lode_1_5_2021-04-10 00:42:55.636574\"\n",
    "# run_3 = \"sine_iwae_lode_1_5_2021-04-10 00:48:03.676548\"\n",
    "\n",
    "# run_1 = \"sine_iwae_lode_1_10_2021-04-10 00:14:19.086817\"\n",
    "# run_2 = \"sine_iwae_lode_1_10_2021-04-10 00:25:30.215114\"\n",
    "# run_3 = \"sine_iwae_lode_1_10_2021-04-10 00:33:20.224466\"\n",
    "\n",
    "run_1 = \"sine_iwae_lode_1_25_2021-04-10 00:40:34.210478\"\n",
    "run_2 = \"sine_iwae_lode_1_25_2021-04-10 01:16:00.895996\"\n",
    "run_3 = \"sine_iwae_lode_1_25_2021-04-10 02:31:22.929243\"\n",
    "\n",
    "model_data_1 = torch.load(model_path + run_1)\n",
    "model_data_2 = torch.load(model_path + run_2)\n",
    "model_data_3 = torch.load(model_path + run_3)"
   ]
  },
  {
   "cell_type": "code",
   "execution_count": 28,
   "metadata": {},
   "outputs": [],
   "source": [
    "generator = torch.load('../' + model_data_1['data_path'])['generator']\n",
    "\n",
    "test_time, test_data = generator.get_test_set()\n",
    "test_data = test_data.reshape(len(test_data), -1, 1)\n",
    "\n",
    "test_data_tt = gpu(test_data)\n",
    "test_time_tt = gpu(test_time)\n",
    "\n",
    "test_dataset = SineSet(test_data_tt, test_time_tt)\n",
    "test_loader = DataLoader(test_dataset, batch_size = len(test_dataset))"
   ]
  },
  {
   "cell_type": "code",
   "execution_count": 29,
   "metadata": {},
   "outputs": [],
   "source": [
    "# TODO: Move into model args.\n",
    "elbo_type = 'iwae'\n",
    "\n",
    "base_model = LatentNeuralODEBuilder(**model_data_1['model_args'])\n",
    "\n",
    "model_1 = base_model.build_latent_node(elbo_type).to(device)\n",
    "model_2 = base_model.build_latent_node(elbo_type).to(device)\n",
    "model_3 = base_model.build_latent_node(elbo_type).to(device)"
   ]
  },
  {
   "cell_type": "code",
   "execution_count": 30,
   "metadata": {},
   "outputs": [
    {
     "data": {
      "text/plain": [
       "<All keys matched successfully>"
      ]
     },
     "execution_count": 30,
     "metadata": {},
     "output_type": "execute_result"
    }
   ],
   "source": [
    "model_1.load_state_dict(model_data_1['model_state_dict'])\n",
    "model_2.load_state_dict(model_data_2['model_state_dict'])\n",
    "model_3.load_state_dict(model_data_3['model_state_dict'])"
   ]
  },
  {
   "cell_type": "code",
   "execution_count": 31,
   "metadata": {},
   "outputs": [],
   "source": [
    "train_args = model_data_1['train_args']"
   ]
  },
  {
   "cell_type": "markdown",
   "metadata": {},
   "source": [
    "## Loss Calculation"
   ]
  },
  {
   "cell_type": "code",
   "execution_count": 35,
   "metadata": {},
   "outputs": [],
   "source": [
    "M = train_args['M']\n",
    "K = train_args['K']\n",
    "\n",
    "out_1 = model_1.forward(test_data_tt, test_time_tt, M, K)\n",
    "elbo_1 = model_1.get_elbo(test_data_tt, *out_1, M, K, model_data_1['train_args']['l_std'])\n",
    "\n",
    "out_2 = model_2.forward(test_data_tt, test_time_tt, M, K)\n",
    "elbo_2 = model_2.get_elbo(test_data_tt, *out_2, M, K, model_data_2['train_args']['l_std'])\n",
    "\n",
    "out_3 = model_3.forward(test_data_tt, test_time_tt, M, K)\n",
    "elbo_3 = model_3.get_elbo(test_data_tt, *out_3, M, K, model_data_3['train_args']['l_std'])\n",
    "\n",
    "mse_1 = nn.MSELoss()(test_data_tt, torch.mean(out_1[0], 1))\n",
    "mse_2 = nn.MSELoss()(test_data_tt, torch.mean(out_2[0], 1))\n",
    "mse_3 = nn.MSELoss()(test_data_tt, torch.mean(out_3[0], 1))"
   ]
  },
  {
   "cell_type": "code",
   "execution_count": 36,
   "metadata": {},
   "outputs": [
    {
     "name": "stdout",
     "output_type": "stream",
     "text": [
      "ELBO: 4884.01±8.37\n",
      "MSE: 0.5121±0.0008\n"
     ]
    }
   ],
   "source": [
    "elbos = torch.Tensor([elbo_1, elbo_2, elbo_3])\n",
    "mses = torch.Tensor([mse_1, mse_2, mse_3])\n",
    "\n",
    "print(\"ELBO: {:.2f}±{:.2f}\".format(torch.mean(elbos), torch.std(elbos)))\n",
    "print(\"MSE: {:.4f}±{:.4f}\".format(torch.mean(mses), torch.std(mses)))"
   ]
  },
  {
   "cell_type": "markdown",
   "metadata": {},
   "source": [
    "## Training Dynamics"
   ]
  },
  {
   "cell_type": "code",
   "execution_count": 143,
   "metadata": {},
   "outputs": [],
   "source": [
    "def load_data(model_path, p1, p2, p3):\n",
    "    d1 = torch.load(model_path + p1)\n",
    "    d2 = torch.load(model_path + p2)\n",
    "    d3 = torch.load(model_path + p3)\n",
    "    \n",
    "    return [d1, d2, d3]"
   ]
  },
  {
   "cell_type": "code",
   "execution_count": 147,
   "metadata": {},
   "outputs": [],
   "source": [
    "# Need to be replaced.\n",
    "base_1 = \"sine_base_lode_1_1_2021-04-10 00:45:41.187330\"\n",
    "base_2 = \"sine_base_lode_1_1_2021-04-10 00:50:45.503356\"\n",
    "base_3 = \"sine_base_lode_1_1_2021-04-10 00:59:32.700574\"\n",
    "\n",
    "iwae_1_5_1 = \"sine_iwae_lode_1_5_2021-04-10 00:07:26.055046\"\n",
    "iwae_1_5_2 = \"sine_iwae_lode_1_5_2021-04-10 00:42:55.636574\"\n",
    "iwae_1_5_3 = \"sine_iwae_lode_1_5_2021-04-10 00:48:03.676548\"\n",
    "\n",
    "iwae_1_10_1 = \"sine_iwae_lode_1_10_2021-04-10 00:14:19.086817\"\n",
    "iwae_1_10_2 = \"sine_iwae_lode_1_10_2021-04-10 00:25:30.215114\"\n",
    "iwae_1_10_3 = \"sine_iwae_lode_1_10_2021-04-10 00:33:20.224466\"\n",
    "\n",
    "iwae_1_25_1 = \"sine_iwae_lode_1_25_2021-04-10 00:40:34.210478\"\n",
    "iwae_1_25_2 = \"sine_iwae_lode_1_25_2021-04-10 01:16:00.895996\"\n",
    "iwae_1_25_3 = \"sine_iwae_lode_1_25_2021-04-10 02:31:22.929243\""
   ]
  },
  {
   "cell_type": "code",
   "execution_count": 149,
   "metadata": {},
   "outputs": [],
   "source": [
    "base = load_data(model_path, base_1, base_2, base_3)\n",
    "iwae_1_5 = load_data(model_path, iwae_1_5_1, iwae_1_5_2, iwae_1_5_3)\n",
    "iwae_1_10 = load_data(model_path, iwae_1_10_1, iwae_1_10_2, iwae_1_10_3)\n",
    "iwae_1_25 = load_data(model_path, iwae_1_25_1, iwae_1_25_2, iwae_1_25_3)"
   ]
  },
  {
   "cell_type": "code",
   "execution_count": 150,
   "metadata": {},
   "outputs": [],
   "source": [
    "def get_train_times(d1, d2, d3):\n",
    "    train_1 = d1['train_obj']\n",
    "    train_2 = d2['train_obj']\n",
    "    train_3 = d3['train_obj']\n",
    "    \n",
    "    rt1 = np.mean(train_1.runtimes)\n",
    "    rt2 = np.mean(train_2.runtimes)\n",
    "    rt3 = np.mean(train_3.runtimes)\n",
    "    \n",
    "    avg_rt = np.mean([rt1, rt2, rt3])\n",
    "    print(\"Avg Epoch Time: {}\".format(avg_rt))\n",
    "    return avg_rt"
   ]
  },
  {
   "cell_type": "code",
   "execution_count": 151,
   "metadata": {
    "scrolled": true
   },
   "outputs": [
    {
     "name": "stdout",
     "output_type": "stream",
     "text": [
      "Avg Epoch Time: 61.072596869866054\n",
      "Avg Epoch Time: 59.428685742219294\n",
      "Avg Epoch Time: 67.61594797790052\n"
     ]
    }
   ],
   "source": [
    "iwae_1_5_rt = get_train_times(*iwae_1_5)\n",
    "iwae_1_10_rt = get_train_times(*iwae_1_10)\n",
    "iwae_1_25_rt = get_train_times(*iwae_1_25)"
   ]
  },
  {
   "cell_type": "code",
   "execution_count": 152,
   "metadata": {},
   "outputs": [],
   "source": [
    "def moving_average(x, w):\n",
    "    return np.convolve(x, np.ones(w), 'valid') / w"
   ]
  },
  {
   "cell_type": "code",
   "execution_count": 171,
   "metadata": {},
   "outputs": [],
   "source": [
    "def plot_val_loss(d1, d2, d3, title, trunc_l=25, trunc_r=250):\n",
    "    train_1 = d1['train_obj']\n",
    "    train_2 = d2['train_obj']\n",
    "    train_3 = d3['train_obj']\n",
    "\n",
    "    val1 = np.array(train_1.val_loss_hist)\n",
    "    val2 = np.array(train_2.val_loss_hist)\n",
    "    val3 = np.array(train_3.val_loss_hist)\n",
    "    \n",
    "    val1 = moving_average(val1, 10)\n",
    "    val2 = moving_average(val2, 10)\n",
    "    val3 = moving_average(val3, 10)\n",
    "\n",
    "    mean_val = np.mean([val1, val2, val3], 0)\n",
    "    std_val = np.std([val1, val2, val3], 0)\n",
    "\n",
    "    time = range(len(val1))\n",
    "\n",
    "    mean_val = mean_val[trunc_l:trunc_r]\n",
    "    std_val = std_val[trunc_l:trunc_r]\n",
    "    time = time[trunc_l:trunc_r]\n",
    "\n",
    "    plt.plot(time, mean_val, label=title)\n",
    "    plt.fill_between(time, mean_val + std_val, mean_val - std_val, alpha=0.3)"
   ]
  },
  {
   "cell_type": "code",
   "execution_count": 172,
   "metadata": {},
   "outputs": [
    {
     "data": {
      "text/plain": [
       "<matplotlib.legend.Legend at 0x7fb234a92700>"
      ]
     },
     "execution_count": 172,
     "metadata": {},
     "output_type": "execute_result"
    },
    {
     "data": {
      "image/png": "[encoded data removed]",
      "text/plain": [
       "<Figure size 432x288 with 1 Axes>"
      ]
     },
     "metadata": {
      "needs_background": "light"
     },
     "output_type": "display_data"
    }
   ],
   "source": [
    "plot_val_loss(*base, 'base')\n",
    "plot_val_loss(*iwae_1_5, 'iwae_1_5')\n",
    "plot_val_loss(*iwae_1_10, 'iwae_1_10')\n",
    "plot_val_loss(*iwae_1_25, 'iwae_1_25')\n",
    "plt.legend()"
   ]
  },
  {
   "cell_type": "markdown",
   "metadata": {},
   "source": [
    "## Visualization"
   ]
  },
  {
   "cell_type": "code",
   "execution_count": 173,
   "metadata": {},
   "outputs": [
    {
     "data": {
      "text/plain": [
       "[<matplotlib.lines.Line2D at 0x7fb234a09f10>]"
      ]
     },
     "execution_count": 173,
     "metadata": {},
     "output_type": "execute_result"
    },
    {
     "data": {
      "image/png": "[encoded data removed]",
      "text/plain": [
       "<Figure size 432x288 with 1 Axes>"
      ]
     },
     "metadata": {
      "needs_background": "light"
     },
     "output_type": "display_data"
    }
   ],
   "source": [
    "ind = 0\n",
    "plt.plot(asnp(test_time_tt), asnp(torch.mean(out_1[0][ind], 0)))\n",
    "plt.plot(asnp(test_time_tt), asnp(test_data_tt[ind]))"
   ]
  }
 ],
 "metadata": {
  "kernelspec": {
   "display_name": "Python 3",
   "language": "python",
   "name": "python3"
  },
  "language_info": {
   "codemirror_mode": {
    "name": "ipython",
    "version": 3
   },
   "file_extension": ".py",
   "mimetype": "text/x-python",
   "name": "python",
   "nbconvert_exporter": "python",
   "pygments_lexer": "ipython3",
   "version": "3.8.8"
  }
 },
 "nbformat": 4,
 "nbformat_minor": 4
}
