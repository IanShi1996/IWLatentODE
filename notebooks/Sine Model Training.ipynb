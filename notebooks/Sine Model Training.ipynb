{
 "cells": [
  {
   "cell_type": "markdown",
   "metadata": {},
   "source": [
    "\n",
    "# Neural ODE Training\n",
    "\n",
    "This notebook performs training of latent NODE models on sine wave data."
   ]
  },
  {
   "cell_type": "code",
   "execution_count": null,
   "metadata": {
    "scrolled": true
   },
   "outputs": [],
   "source": [
    "%load_ext autoreload\n",
    "%autoreload 2"
   ]
  },
  {
   "cell_type": "code",
   "execution_count": null,
   "metadata": {},
   "outputs": [],
   "source": [
    "import sys, os\n",
    "sys.path.append(os.path.abspath('../src'))\n",
    "sys.path.append(os.path.abspath('..'))\n",
    "\n",
    "import torch\n",
    "import torch.optim as optim\n",
    "from torch.utils.data import Dataset, DataLoader\n",
    "from torch.optim.lr_scheduler import ExponentialLR\n",
    "\n",
    "device = torch.device('cuda:0')\n",
    "\n",
    "import numpy as np\n",
    "import matplotlib.pyplot as plt\n",
    "from datetime import datetime\n",
    "from tqdm import tqdm\n",
    "\n",
    "# Custom lib\n",
    "from model import LatentNeuralODEBuilder\n",
    "from utils import gpu, asnp\n",
    "from train import TrainingLoop\n",
    "from train_piw import PIWTrainingLoop\n",
    "from visualize_sine import plot_training_sine"
   ]
  },
  {
   "cell_type": "markdown",
   "metadata": {},
   "source": [
    "## Data Generation: Sine Family\n",
    "\n",
    "The point of this data is to provide a \"library\" of possible sine waves to train our classifier with."
   ]
  },
  {
   "cell_type": "code",
   "execution_count": null,
   "metadata": {},
   "outputs": [],
   "source": [
    "data_path = \"../data/sine_data_2021-04-09 00:13:41.249505\"\n",
    "generator = torch.load(data_path)['generator']"
   ]
  },
  {
   "cell_type": "code",
   "execution_count": null,
   "metadata": {},
   "outputs": [],
   "source": [
    "train_time, train_data = generator.get_train_set()\n",
    "val_time, val_data = generator.get_val_set()\n",
    "\n",
    "train_data = train_data.reshape(len(train_data), -1, 1)\n",
    "val_data = val_data.reshape(len(val_data), -1, 1)\n",
    "\n",
    "train_data_tt = gpu(train_data)\n",
    "train_time_tt = gpu(train_time)\n",
    "\n",
    "val_data_tt = gpu(val_data)\n",
    "val_time_tt = gpu(val_time)"
   ]
  },
  {
   "cell_type": "code",
   "execution_count": null,
   "metadata": {},
   "outputs": [],
   "source": [
    "class SineSet(Dataset):\n",
    "    def __init__(self, data, time):\n",
    "        self.data = data\n",
    "        self.time = time\n",
    "    def __len__(self):\n",
    "        return len(self.data)\n",
    "    def __getitem__(self, idx):\n",
    "        return self.data[idx], self.time\n",
    "    \n",
    "train_dataset = SineSet(train_data_tt, train_time_tt)\n",
    "val_dataset = SineSet(val_data_tt, val_time_tt)\n",
    "\n",
    "train_loader = DataLoader(train_dataset, batch_size=256, shuffle=True)\n",
    "val_loader = DataLoader(train_dataset, batch_size=len(val_dataset))"
   ]
  },
  {
   "cell_type": "markdown",
   "metadata": {},
   "source": [
    "# Training loop"
   ]
  },
  {
   "cell_type": "code",
   "execution_count": null,
   "metadata": {},
   "outputs": [],
   "source": [
    "model_args = {\n",
    "    'obs_dim': 1,\n",
    "    'rec_latent_dim': 8,\n",
    "    'node_latent_dim': 4,\n",
    "    \n",
    "    'rec_gru_unit': 100,\n",
    "    'rec_node_hidden': 100,\n",
    "    'rec_node_layer': 2,\n",
    "    'rec_node_act': 'Tanh',\n",
    "    \n",
    "    'latent_node_hidden': 100,\n",
    "    'latent_node_layer': 2,\n",
    "    'latent_node_act': 'Tanh',\n",
    "    \n",
    "    'dec_type': 'NN',\n",
    "    'dec_hidden': 100,\n",
    "    'dec_layer': 1,\n",
    "    'dec_act': 'ReLU',\n",
    "}\n",
    "\n",
    "elbo_type = 'miw'\n",
    "\n",
    "base_model = LatentNeuralODEBuilder(**model_args)\n",
    "model = base_model.build_latent_node(elbo_type).to(device)"
   ]
  },
  {
   "cell_type": "code",
   "execution_count": null,
   "metadata": {},
   "outputs": [],
   "source": [
    "main = TrainingLoop(model, train_loader, val_loader, plot_training_sine)"
   ]
  },
  {
   "cell_type": "code",
   "execution_count": null,
   "metadata": {},
   "outputs": [],
   "source": [
    "lr = 1e-3\n",
    "\n",
    "parameters = (model.parameters())\n",
    "optimizer = optim.Adamax(parameters, lr=lr)\n",
    "scheduler = ExponentialLR(optimizer, 0.995)"
   ]
  },
  {
   "cell_type": "code",
   "execution_count": null,
   "metadata": {},
   "outputs": [],
   "source": [
    "train_args = {\n",
    "    'max_epoch': 500,\n",
    "    'l_std': 0.1,\n",
    "    'clip_norm': 5,\n",
    "    'model_atol': 1e-4,\n",
    "    'model_rtol': 1e-3,\n",
    "    'plt_args': {'n_plot': 2},\n",
    "    'M': 3,\n",
    "    'K': 4,\n",
    "    #'beta': 0.5,\n",
    "    'method': 'dopri5',\n",
    "}"
   ]
  },
  {
   "cell_type": "code",
   "execution_count": null,
   "metadata": {
    "scrolled": false
   },
   "outputs": [],
   "source": [
    "main.train(optimizer, train_args, scheduler, plt_traj=True, plt_loss=True)"
   ]
  },
  {
   "cell_type": "code",
   "execution_count": null,
   "metadata": {},
   "outputs": [],
   "source": [
    "torch.save({\n",
    "    'model_state_dict': model.state_dict(),\n",
    "    'optimizer_state_dict': optimizer.state_dict(),\n",
    "    'data_path': data_path,\n",
    "    'model_args': model_args,\n",
    "    'train_args': train_args,\n",
    "    'train_obj': main,\n",
    "}, '../models/sine_iwlatode_{}'.format(datetime.now()))"
   ]
  },
  {
   "cell_type": "markdown",
   "metadata": {},
   "source": [
    "---\n",
    "## Train PIWAE"
   ]
  },
  {
   "cell_type": "code",
   "execution_count": null,
   "metadata": {},
   "outputs": [],
   "source": [
    "model_args = {\n",
    "    'obs_dim': 1,\n",
    "    'rec_latent_dim': 8,\n",
    "    'node_latent_dim': 4,\n",
    "    \n",
    "    'rec_gru_unit': 100,\n",
    "    'rec_node_hidden': 100,\n",
    "    'rec_node_layer': 2,\n",
    "    'rec_node_act': 'Tanh',\n",
    "    \n",
    "    'latent_node_hidden': 100,\n",
    "    'latent_node_layer': 2,\n",
    "    'latent_node_act': 'Tanh',\n",
    "    \n",
    "    'dec_type': 'NN',\n",
    "    'dec_hidden': 100,\n",
    "    'dec_layer': 1,\n",
    "    'dec_act': 'ReLU',\n",
    "}\n",
    "\n",
    "elbo_type = 'piw'\n",
    "\n",
    "base_model = LatentNeuralODEBuilder(**model_args)\n",
    "model = base_model.build_latent_node(elbo_type).to(device)"
   ]
  },
  {
   "cell_type": "code",
   "execution_count": null,
   "metadata": {},
   "outputs": [],
   "source": [
    "main = PIWTrainingLoop(model, train_loader, val_loader, plot_training_sine)"
   ]
  },
  {
   "cell_type": "code",
   "execution_count": null,
   "metadata": {},
   "outputs": [],
   "source": [
    "lr = 1e-3\n",
    "\n",
    "inf_params = (model.enc.parameters())\n",
    "inf_optim = optim.Adamax(inf_params, lr=lr)\n",
    "inf_sched = ExponentialLR(inf_optim, 0.99)\n",
    "\n",
    "node_params = list(model.nodef.parameters())\n",
    "dec_params = list(model.dec.parameters())\n",
    "gen_params = node_params + dec_params\n",
    "\n",
    "gen_optim = optim.Adamax(gen_params, lr=lr)\n",
    "gen_sched = ExponentialLR(gen_optim, 0.99)"
   ]
  },
  {
   "cell_type": "code",
   "execution_count": null,
   "metadata": {},
   "outputs": [],
   "source": [
    "train_args = {\n",
    "    'max_epoch': 500,\n",
    "    'l_std': 0.1,\n",
    "    'clip_norm': 5,\n",
    "    'model_atol': 1e-4,\n",
    "    'model_rtol': 1e-3,\n",
    "    'plt_args': {'n_plot': 2},\n",
    "    'M': 3,\n",
    "    'K': 2,\n",
    "    'method': 'dopri5',\n",
    "}"
   ]
  },
  {
   "cell_type": "code",
   "execution_count": null,
   "metadata": {
    "scrolled": false
   },
   "outputs": [],
   "source": [
    "main.train(inf_optim, gen_optim, train_args, inf_sched, gen_sched, True, True, True)"
   ]
  }
 ],
 "metadata": {
  "kernelspec": {
   "display_name": "Python 3",
   "language": "python",
   "name": "python3"
  },
  "language_info": {
   "codemirror_mode": {
    "name": "ipython",
    "version": 3
   },
   "file_extension": ".py",
   "mimetype": "text/x-python",
   "name": "python",
   "nbconvert_exporter": "python",
   "pygments_lexer": "ipython3",
   "version": "3.8.5"
  }
 },
 "nbformat": 4,
 "nbformat_minor": 2
}
