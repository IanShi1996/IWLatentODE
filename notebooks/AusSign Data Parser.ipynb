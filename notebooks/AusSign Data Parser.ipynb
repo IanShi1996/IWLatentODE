{
 "cells": [
  {
   "cell_type": "code",
   "execution_count": 2,
   "metadata": {},
   "outputs": [],
   "source": [
    "import os\n",
    "import csv\n",
    "\n",
    "import numpy as np\n",
    "import matplotlib.pyplot as plt\n",
    "\n",
    "import torch"
   ]
  },
  {
   "cell_type": "code",
   "execution_count": 3,
   "metadata": {},
   "outputs": [],
   "source": [
    "def get_subdirs(path):    \n",
    "    sub_dirs = os.listdir(path)\n",
    "    return sub_dirs\n",
    "\n",
    "def parse_dataset(path, subdirs):\n",
    "    dataset = []\n",
    "    \n",
    "    for subdir in subdirs:\n",
    "        files = os.listdir(path + '/' + subdir)\n",
    "        \n",
    "        for file in files:\n",
    "            fp = \"{}/{}/{}\".format(path, subdir, file)\n",
    "            \n",
    "            data = list(csv.reader(open(fp, 'r'), delimiter='\\t'))\n",
    "            \n",
    "            dataset.append(data)\n",
    "    return dataset\n",
    "\n",
    "def to_float(data):\n",
    "    return [np.array(d).astype('float') for d in data]\n",
    "\n",
    "def crop_datasets(dataset, min_len):\n",
    "    return np.array([d[:min_len] for d in dataset])"
   ]
  },
  {
   "cell_type": "code",
   "execution_count": 4,
   "metadata": {},
   "outputs": [],
   "source": [
    "data_path = '../data/aussign'\n",
    "\n",
    "subdirs = get_subdirs(data_path)\n",
    "\n",
    "train_dataset = to_float(parse_dataset(data_path, subdirs[:7]))\n",
    "val_dataset = to_float(parse_dataset(data_path, subdirs[7:8]))\n",
    "test_dataset = to_float(parse_dataset(data_path, subdirs[8:9]))\n",
    "\n",
    "min_len_train = min([len(d) for d in train_dataset])\n",
    "min_len_val = min([len(d) for d in val_dataset])\n",
    "min_len_test = min([len(d) for d in test_dataset])\n",
    "min_len = min(min_len_train, min_len_val, min_len_test)\n",
    "\n",
    "train_dataset = crop_datasets(train_dataset, min_len_train)\n",
    "val_dataset = crop_datasets(val_dataset, min_len_train)\n",
    "test_dataset = crop_datasets(test_dataset, min_len_train)"
   ]
  },
  {
   "cell_type": "code",
   "execution_count": 6,
   "metadata": {},
   "outputs": [],
   "source": [
    "out_path = '../data/aussign_parsed'\n",
    "\n",
    "torch.save({\n",
    "    'train_dataset': train_dataset,\n",
    "    'val_dataset': val_dataset,\n",
    "    'test_dataset': test_dataset\n",
    "}, out_path)"
   ]
  }
 ],
 "metadata": {
  "kernelspec": {
   "display_name": "Python 3",
   "language": "python",
   "name": "python3"
  },
  "language_info": {
   "codemirror_mode": {
    "name": "ipython",
    "version": 3
   },
   "file_extension": ".py",
   "mimetype": "text/x-python",
   "name": "python",
   "nbconvert_exporter": "python",
   "pygments_lexer": "ipython3",
   "version": "3.8.5"
  }
 },
 "nbformat": 4,
 "nbformat_minor": 4
}
